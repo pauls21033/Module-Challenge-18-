{
 "cells": [
  {
   "cell_type": "code",
   "execution_count": 1,
   "id": "e739dfbe",
   "metadata": {},
   "outputs": [],
   "source": [
    "import csv\n",
    "import pandas as pd\n",
    "import sqlalchemy\n",
    "from sqlalchemy.ext.automap import automap_base\n",
    "from sqlalchemy.orm import Session\n",
    "from sqlalchemy import create_engine, func"
   ]
  },
  {
   "cell_type": "code",
   "execution_count": null,
   "id": "b35e5e6d",
   "metadata": {},
   "outputs": [
    {
     "name": "stderr",
     "output_type": "stream",
     "text": [
      "C:\\Users\\wesan\\AppData\\Local\\Temp\\ipykernel_15764\\1144217323.py:1: DtypeWarning: Columns (5,7) have mixed types. Specify dtype option on import or set low_memory=False.\n",
      "  citi_bike_july_22 = pd.read_csv(\"Resources/202207-citbike-tripdata.csv\")\n"
     ]
    }
   ],
   "source": [
    "citi_bike_july_22 = pd.read_csv(\"Resources/202207-citbike-tripdata.csv\")\n",
    "citi_bike_aug_22 = pd.read_csv(\"Resources/202208-citibike-tripdata.csv\")"
   ]
  },
  {
   "cell_type": "code",
   "execution_count": null,
   "id": "3aa96763",
   "metadata": {},
   "outputs": [],
   "source": [
    "citi_bike_july_22"
   ]
  },
  {
   "cell_type": "code",
   "execution_count": null,
   "id": "1b26e5a3",
   "metadata": {},
   "outputs": [],
   "source": [
    "citi_bike_aug_22"
   ]
  },
  {
   "cell_type": "code",
   "execution_count": null,
   "id": "c6c7b01f",
   "metadata": {},
   "outputs": [],
   "source": [
    "Citi_Bike_2022=pd.concat([citi_bike_july_22,citi_bike_aug_22], axis=0)"
   ]
  },
  {
   "cell_type": "code",
   "execution_count": null,
   "id": "def00798",
   "metadata": {},
   "outputs": [],
   "source": [
    "Citi_Bike_2022"
   ]
  },
  {
   "cell_type": "code",
   "execution_count": null,
   "id": "bc276545",
   "metadata": {},
   "outputs": [],
   "source": [
    "Citi_Bike_2022.to_csv(\"Resources/Citi_Bike_2022_Cleaned\")"
   ]
  },
  {
   "cell_type": "code",
   "execution_count": null,
   "id": "c09914dd",
   "metadata": {
    "scrolled": true
   },
   "outputs": [],
   "source": [
    "Citi_Bike_2022.info()"
   ]
  },
  {
   "cell_type": "code",
   "execution_count": null,
   "id": "617d9661",
   "metadata": {},
   "outputs": [],
   "source": [
    "Citi_Bike_2022.isnull().any()"
   ]
  },
  {
   "cell_type": "code",
   "execution_count": null,
   "id": "60c37665",
   "metadata": {},
   "outputs": [],
   "source": [
    "Citi_Bike_2022.dropna(how='any',inplace=True)"
   ]
  },
  {
   "cell_type": "code",
   "execution_count": null,
   "id": "12f979a8",
   "metadata": {},
   "outputs": [],
   "source": [
    "Citi_Bike_2022.isnull().any()"
   ]
  },
  {
   "cell_type": "code",
   "execution_count": null,
   "id": "986c9380",
   "metadata": {},
   "outputs": [],
   "source": [
    "Citi_Bike_2022"
   ]
  },
  {
   "cell_type": "code",
   "execution_count": null,
   "id": "b8d9d925",
   "metadata": {},
   "outputs": [],
   "source": [
    "rds_connection_string = \"(pw):postgre@localhost:5432/Tableau_Citi_Bike\""
   ]
  },
  {
   "cell_type": "code",
   "execution_count": null,
   "id": "86dd19bc",
   "metadata": {},
   "outputs": [],
   "source": [
    "engine = create_engine(f'postgresql://{rds_connection_string}')"
   ]
  },
  {
   "cell_type": "code",
   "execution_count": null,
   "id": "5debc25a",
   "metadata": {},
   "outputs": [],
   "source": [
    "Citi_Bike_2022.to_sql(\"Citi_Bike_22_Cleaned\", con=engine)"
   ]
  },
  {
   "cell_type": "code",
   "execution_count": null,
   "id": "fa31d8fc",
   "metadata": {},
   "outputs": [],
   "source": []
  }
 ],
 "metadata": {
  "kernelspec": {
   "display_name": "Python 3 (ipykernel)",
   "language": "python",
   "name": "python3"
  },
  "language_info": {
   "codemirror_mode": {
    "name": "ipython",
    "version": 3
   },
   "file_extension": ".py",
   "mimetype": "text/x-python",
   "name": "python",
   "nbconvert_exporter": "python",
   "pygments_lexer": "ipython3",
   "version": "3.9.12"
  }
 },
 "nbformat": 4,
 "nbformat_minor": 5
}
